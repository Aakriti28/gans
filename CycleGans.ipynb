{
 "cells": [
  {
   "cell_type": "markdown",
   "metadata": {},
   "source": [
    "## Cycle GAN in PyTorch"
   ]
  },
  {
   "cell_type": "code",
   "execution_count": 2,
   "metadata": {},
   "outputs": [],
   "source": [
    "%load_ext autoreload\n",
    "%matplotlib inline"
   ]
  },
  {
   "cell_type": "code",
   "execution_count": 10,
   "metadata": {},
   "outputs": [],
   "source": [
    "%autoreload 2\n",
    "\n",
    "from IPython import display\n",
    "\n",
    "from utils import Logger\n",
    "\n",
    "import torch\n",
    "\n",
    "from torch import nn, optim\n",
    "from torch.autograd.variable import Variable\n",
    "from torchvision import transforms, datasets"
   ]
  },
  {
   "cell_type": "code",
   "execution_count": 11,
   "metadata": {},
   "outputs": [],
   "source": [
    "DATA_FOLDER = './torch_data/CycleGAN/MNIST'"
   ]
  },
  {
   "cell_type": "code",
   "execution_count": 85,
   "metadata": {},
   "outputs": [],
   "source": [
    "import os\n",
    "import urllib, zipfile\n",
    "from tqdm import tqdm\n",
    "import zipfile\n",
    "\n",
    "VALID_DATA_NAMES = [\"ae_photos\", \"apple2orange\", \"summer2winter_yosemite\", \"horse2zebra\", \"monet2photo\", \"cezanne2photo\", \"ukiyoe2photo\", \"vangogh2photo\", \"maps\", \"cityscapes\",\"facades\",\"iphone2dslr_flower\",\"mini\", \"mini_pix2pix\", \"mini_colorization\"]\n",
    "\n",
    "URL = 'https://people.eecs.berkeley.edu/~taesung_park/CycleGAN/datasets/{}.zip'\n",
    "class DownloadProgressBar(tqdm):\n",
    "    def update_to(self, b=1, bsize=1, tsize=None):\n",
    "        if tsize is not None:\n",
    "            self.total = tsize\n",
    "        self.update(b * bsize - self.n)\n",
    "\n",
    "        \n",
    "def download_cyclegan_dataset(filename, path, force=False):\n",
    "    # Validate dataset filename is valid.\n",
    "    assert(filename in VALID_DATA_NAMES)\n",
    "    # Return if path exists.\n",
    "    file_path = \"{}/{}.zip\".format(path, filename)\n",
    "    if(os.path.exists(file_path) and not force): return\n",
    "    # Otherwise download.\n",
    "    \n",
    "    # Make path directory if missing.\n",
    "    os.makedirs(path, exist_ok=True)\n",
    "    # Download data\n",
    "    url = URL.format(filename)\n",
    "    with DownloadProgressBar(unit='B', unit_scale=True,\n",
    "                             miniters=1, desc=url.split('/')[-1]) as t:\n",
    "        urllib.request.urlretrieve(url, file_path, reporthook=t.update_to)\n",
    "        with zipfile.ZipFile(file_path, 'r') as zip_obj:\n",
    "            zip_obj.extractall(path)"
   ]
  },
  {
   "cell_type": "code",
   "execution_count": 86,
   "metadata": {},
   "outputs": [
    {
     "name": "stderr",
     "output_type": "stream",
     "text": [
      "ae_photos.zip: 10.7MB [00:05, 1.82MB/s]                            \n"
     ]
    }
   ],
   "source": [
    "for(name in VALID_DATA_NAMES):\n",
    "download_cyclegan_dataset(\"ae_photos\", DATA_FOLDER, force=True)"
   ]
  },
  {
   "cell_type": "code",
   "execution_count": 87,
   "metadata": {},
   "outputs": [],
   "source": [
    "x"
   ]
  },
  {
   "cell_type": "code",
   "execution_count": null,
   "metadata": {},
   "outputs": [],
   "source": []
  }
 ],
 "metadata": {
  "kernelspec": {
   "display_name": "Python 3",
   "language": "python",
   "name": "python3"
  },
  "language_info": {
   "codemirror_mode": {
    "name": "ipython",
    "version": 3
   },
   "file_extension": ".py",
   "mimetype": "text/x-python",
   "name": "python",
   "nbconvert_exporter": "python",
   "pygments_lexer": "ipython3",
   "version": "3.7.7"
  }
 },
 "nbformat": 4,
 "nbformat_minor": 4
}
